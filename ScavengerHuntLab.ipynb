{
 "cells": [
  {
   "cell_type": "markdown",
   "metadata": {},
   "source": [
    "# GitHub Lab - Scavenger Hunt\n",
    "\n",
    "## Introduction\n",
    "# TODO: make this pirate-inspired/themed\n",
    "Welcome to the GitHub Scavenger Hunt! In this lab, you'll learn how to use Git effectively while following a structured set of challenges. By the end of this exercise, you’ll understand key Git concepts and earn a special password by hashing your information. Let’s get started!"
   ]
  },
  {
   "cell_type": "markdown",
   "metadata": {},
   "source": [
    "## Part 1: What is GitHub?\n",
    "# TODO: make this pirate-inspired/themed\n",
    "# TODO: add a brief intro about why we need GitHub\n",
    "### Puzzle 1: Git Add vs Commit vs Push\n",
    "# TODO: make this pirate-inspired/themed\n",
    "Git operates in three main stages:\n",
    "- **`git add`**: Moves changes to the \"staging area\" (which exists on physical device!)\n",
    "- **`git commit -m \"message\"`**: Saves changes locally with a commit message\n",
    "- **`git push`**: Sends committed changes to the remote repository (now everyone can see your changes)\n",
    "\n",
    "# TODO: add a diagram/image from the internet (or draw my own)\n",
    "\n",
    "The add, commit, push sequence is intended to allow you to make changes! Let's start by making a small change! Update the variable below to store your favorite number, as an integer."
   ]
  },
  {
   "cell_type": "code",
   "execution_count": 20,
   "metadata": {},
   "outputs": [],
   "source": [
    "my_favorite_number = 5"
   ]
  },
  {
   "cell_type": "markdown",
   "metadata": {},
   "source": [
    "# TODO: make this pirate-inspired/themed\n",
    "Now lets make a commit! Use the following git commands in your terminal, but change up your commit message to include the word GitHub:\n",
    "\n",
    "**git add -u </br>\n",
    "git commit -m \"message\" </br>\n",
    "git push </br>**\n",
    "\n",
    "**NOTE:** Each of these lines is a separate command that you must run one-by-one in this order in your terminal \n",
    "\n",
    "# TODO: add image showing what a successful commit message would/should look like\n",
    "\n",
    "In order get points for this puzzle your message **must** include the word GitHub as part of your commit message. Try to make your message as descriptive as possible!"
   ]
  },
  {
   "cell_type": "markdown",
   "metadata": {},
   "source": [
    "### 🔬 Test Case Checkpoint 🔬"
   ]
  },
  {
   "cell_type": "code",
   "execution_count": 15,
   "metadata": {},
   "outputs": [
    {
     "name": "stdout",
     "output_type": "stream",
     "text": [
      "✅ Found a commit message with 'GitHub'!\n"
     ]
    }
   ],
   "source": [
    "## == TEST CASES for Puzzle 1 ==\n",
    "# - This read-only cell contains test cases for your previous cell.\n",
    "# - If this cell runs without any error or output, you PASSED all test cases!\n",
    "# - If this cell results in any errors, check your previous cell, make changes, and RE-RUN your code and then this cell.\n",
    "import subprocess\n",
    "import re\n",
    "\n",
    "def check_commit_message():\n",
    "    try:\n",
    "        commit_messages = subprocess.check_output([\"git\", \"log\", \"--pretty=%B\"]).decode(\"utf-8\")\n",
    "        if re.search(r'\\b(GitHub|github|Github)\\b', commit_messages):\n",
    "            print(\"✅ Found a commit message with 'GitHub'!\")\n",
    "        else:\n",
    "            print(\"❌ No commit message contains 'GitHub'. Try again and check your spelling!\")\n",
    "    except subprocess.CalledProcessError:\n",
    "        print(\"❌ Error: Could not fetch commit log. Are you in a Git repository?\")\n",
    "\n",
    "check_commit_message()"
   ]
  },
  {
   "cell_type": "markdown",
   "metadata": {},
   "source": [
    "## Part 2: Adding/Removing Files\n",
    "### Puzzle 2.1: Let's create some files\n",
    "# TODO: make this pirate-inspired/themed\n",
    "Using the VSCode File System:\n",
    "1. Create two files: `passwords.txt` and `my_info.txt`.\n",
    "2. Add your netid to `my_info.txt` as the first line data \n",
    "3. Leave `passwords.txt` blank for now\n",
    "4. Make sure to save both files before running the test cases"
   ]
  },
  {
   "cell_type": "markdown",
   "metadata": {},
   "source": [
    "### 🔬 Test Case Checkpoint 🔬"
   ]
  },
  {
   "cell_type": "code",
   "execution_count": 50,
   "metadata": {},
   "outputs": [
    {
     "name": "stdout",
     "output_type": "stream",
     "text": [
      "❌ passwords.txt does not exist.\n",
      "✅ my_info.txt looks correct\n"
     ]
    }
   ],
   "source": [
    "## == TEST CASES for Puzzle 2.1 ==\n",
    "# - This read-only cell contains test cases for your previous cell.\n",
    "# - If this cell runs without any error or output, you PASSED all test cases!\n",
    "# - If this cell results in any errors, check your previous cell, make changes, and RE-RUN your code and then this cell.\n",
    "import os\n",
    "\n",
    "if os.path.exists(\"passwords.txt\"):\n",
    "    with open(\"passwords.txt\", \"r\") as f:\n",
    "        content = f.read().strip()\n",
    "        if content:\n",
    "            print(\"❌ passwords.txt is not blank. It should be empty.\")\n",
    "        else:\n",
    "            print(\"✅ passwords.txt looks correct\")\n",
    "else:\n",
    "    print(\"❌ passwords.txt does not exist.\")\n",
    "    \n",
    "if os.path.exists(\"my_info.txt\"):\n",
    "    with open(\"my_info.txt\", \"r\") as f:\n",
    "        lines = [line.strip() for line in f.readlines() if line.strip()]\n",
    "\n",
    "        if len(lines) == 0:\n",
    "            print(\"❌ my_info.txt is empty. It should contain at least one line.\")\n",
    "        elif len(lines) <= 2:\n",
    "            print(\"✅ my_info.txt looks correct\")\n",
    "        else:\n",
    "            print(\"❌ my_info.txt has too many lines. It should have at most two.\")\n",
    "else:\n",
    "    print(\"❌ my_info.txt does not exist.\")\n"
   ]
  },
  {
   "cell_type": "markdown",
   "metadata": {},
   "source": [
    "### Puzzle 2.2: Adding Files using Git\n",
    "Let's take a closer look at git add, and adding the files you just made to your commit.\n",
    "There are two main \"git add\" commands we will be using in this class:\n",
    "- **`git add -u`**: Adds only \"tracked\" files (existing files but not new ones), the \"u\" stands for update\n",
    "- **`git add \"filename\"`**: Adds the file specified by name to GitHub, which allows it to expect to track updates to that file\n",
    "\n",
    "Add the two new files using the second command (run the command twice, once for each file!) so that these files can be viewed by your TA to grade."
   ]
  },
  {
   "cell_type": "markdown",
   "metadata": {},
   "source": [
    "### 🔬 Test Case Checkpoint 🔬"
   ]
  },
  {
   "cell_type": "code",
   "execution_count": 52,
   "metadata": {},
   "outputs": [
    {
     "name": "stdout",
     "output_type": "stream",
     "text": [
      "❌ my_info.txt has NOT been added to Git\n"
     ]
    }
   ],
   "source": [
    "## == TEST CASES for Puzzle 2.2 ==\n",
    "# - This read-only cell contains test cases for your previous cell.\n",
    "# - If this cell runs without any error or output, you PASSED all test cases!\n",
    "# - If this cell results in any errors, check your previous cell, make changes, and RE-RUN your code and then this cell.\n",
    "    \n",
    "status_output = subprocess.check_output([\"git\", \"status\", \"--short\"]).decode(\"utf-8\")\n",
    "\n",
    "if \"my_info.txt\" not in status_output:\n",
    "    print(\"❌ my_info.txt has NOT been added to Git\")\n",
    "elif \"passwords.txt\" not in status_output:\n",
    "    print(\"❌ passwords.txt has NOT been added to Git\")\n",
    "else:\n",
    "    print(\"✅ my_info.txt and passwords.txt have both been added to Git\")\n",
    "\n"
   ]
  },
  {
   "cell_type": "markdown",
   "metadata": {},
   "source": [
    "### Puzzle 2.3: Removing Files using Git\n",
    "Your next job become firstmate is to take out the trash (yes pirates have chores too). If you look at the file system on the left, you'll find a file labeled \"trash.txt\".\n",
    "\n",
    "Unfortunately, simply deleting the file locally isn't enough, you need to remove the file using GitHub as well! Thankfully your mentor left you a scroll on how to do this as well:\n",
    "1. **`git rm \"filename\"`**: Deletes a file specified by name from being tracked by GitHub, which allows it to expect to track updates to that file\n",
    "2. Delete the file locally too (this way, git doesn't think you forgot to add the file when you try to make your next commit)\n",
    "3. **`git commit -m \"message\"`**: Commit your changes as per usual\n",
    "4. **`git push`**: Sends committed changes GitHub!\n",
    "\n",
    "The webpage version of your GitHub should look like this now:\n",
    "\n",
    "# TODO: add image to show updated github webpage\n",
    "\n",
    "**Make sure you commit and push your changes after this step!**"
   ]
  },
  {
   "cell_type": "markdown",
   "metadata": {},
   "source": [
    "### 🔬 Test Case Checkpoint 🔬"
   ]
  },
  {
   "cell_type": "code",
   "execution_count": 53,
   "metadata": {},
   "outputs": [
    {
     "name": "stdout",
     "output_type": "stream",
     "text": [
      "❌ we still need to take out the trash :(\n"
     ]
    }
   ],
   "source": [
    "## == TEST CASES for Puzzle 2.3 ==\n",
    "# - This read-only cell contains test cases for your previous cell.\n",
    "# - If this cell runs without any error or output, you PASSED all test cases!\n",
    "# - If this cell results in any errors, check your previous cell, make changes, and RE-RUN your code and then this cell.\n",
    "    \n",
    "if os.path.exists(\"trash.txt\"):\n",
    "    print(\"❌ we still need to take out the trash :(\")\n",
    "else:\n",
    "    print(\"✅ trash.txt no longer exists\")\n"
   ]
  },
  {
   "cell_type": "markdown",
   "metadata": {},
   "source": [
    "In the future, we can use one command to track both file additions and remoivals: </br>\n",
    "- **`git add .`**: Adds all new files + Deletes all removed files, so GitHub now matches your local repository"
   ]
  },
  {
   "cell_type": "markdown",
   "metadata": {},
   "source": [
    "## Part 3: Receiving Files with GitIgnore and Git Pull\n",
    "After taking out the trash you take another look at your filesystem and notice something! A mysterious box named \".gitignore\".\n",
    "\n",
    "A **`.gitignore`** file tells Git which files to ignore, preventing unnecessary or sensitive files from being tracked in your repository. This is useful for keeping things clean by excluding temporary files, logs, or configurations that shouldn’t be shared. Without a **`.gitignore`**, you might accidentally commit clutter or even expose sensitive information, yikes!\n",
    "\n",
    "## Puzzle 3.1: gitignore\n",
    "You took a look at the gitignore box and realized that it contains the key to the treasure! If you take a quick look at your local files and your repository online you'll notice this file is missing, because your **`.gitignore`** is preventing your local repository from storing that file:\n",
    "# TODO: add an image of how it looks locally vs on web\n",
    "Thankfully, Polly has a solution: update your gitignore, by deleting \"open_treasure_chest.py\" from it.\n",
    "Make sure to add, commit, and push your changes afterwards!"
   ]
  },
  {
   "cell_type": "markdown",
   "metadata": {},
   "source": [
    "### 🔬 Test Case Checkpoint 🔬"
   ]
  },
  {
   "cell_type": "code",
   "execution_count": 54,
   "metadata": {},
   "outputs": [
    {
     "name": "stdout",
     "output_type": "stream",
     "text": [
      "❌ .gitignore is not blank. It should be empty.\n"
     ]
    }
   ],
   "source": [
    "## == TEST CASES for Puzzle 3.1 ==\n",
    "# - This read-only cell contains test cases for your previous cell.\n",
    "# - If this cell runs without any error or output, you PASSED all test cases!\n",
    "# - If this cell results in any errors, check your previous cell, make changes, and RE-RUN your code and then this cell.\n",
    "if os.path.exists(\".gitignore\"):\n",
    "    with open(\".gitignore\", \"r\") as f:\n",
    "        content = f.read().strip()\n",
    "        if content:\n",
    "            print(\"❌ .gitignore is not blank. It should be empty.\")\n",
    "        else:\n",
    "            print(\"✅ .gitignore looks correct\")\n",
    "else:\n",
    "    print(\"❌ .gitignore does not exist -- DO NOT DELETE THIS FILE!\")"
   ]
  },
  {
   "cell_type": "markdown",
   "metadata": {},
   "source": [
    "**`git pull`** is a standard git command that helps you keep your local repository up to date with the latest changes to your codebase. If you're working with others, pulling regularly makes sure that you have the most recent updates before making your own changes, and helps you avoid merge conflicts. Without **`git pull`**, you might be working with outdated code and run into merge conflicts when trying to push your work because your local codebase will be different from what GitHub codebase. \n",
    "- **`git pull origin branchname`**: This command allows you to pull from a branch titled \"branchname\" (we'll talk about branches more in the next section)\n",
    "\n",
    "# TODO: remove the analogy below?\n",
    "Think about it like checking in with a friend! If you're working on a group project, it's a good idea to check-in with them periodically to avoid any \"misunderstandings\" (or as CS folks like to call them: merge conflicts).\n",
    "# TODO: add a diagram of what a git pull may look like/not using git pull will cause\n",
    "\n",
    "**NOTE:** In this class we won't deal with **`git pull`** much, we usually use a simmilar operation: **`git fetch`**. **`git fetch`** is essentially one of the steps that **`git pull`** accomplishes. It allows you to see updates from the remote repository (what exists on GitHub Web) without automatically merging them into your local branch. This helps you review changes before integrating them, reducing the risk of conflicts or unexpected modifications. It's especially useful when working in a team, as it lets you stay aware of new branches, commits, or updates without altering your local work.\n",
    "\n",
    "\n",
    "### Puzzle 3.2: Git Pull\n",
    "Once you get the box open you find a note telling you that the treasure key has been tied to the ship's anchor for safe keeping. Let's take a look at **`git fetch`** to learn how we can retrieve this key, and hope the sharks havent gotten to it first!\n",
    "\n",
    "Run a **`git pull`** command in your terminal (if you're using the notation mentioned above, the branchname you should use is: \"main\"). Once you are done your filesystem should look like this:\n",
    "# TODO: add an image of updated file system"
   ]
  },
  {
   "cell_type": "markdown",
   "metadata": {},
   "source": [
    "### 🔬 Test Case Checkpoint 🔬"
   ]
  },
  {
   "cell_type": "code",
   "execution_count": 63,
   "metadata": {},
   "outputs": [
    {
     "name": "stdout",
     "output_type": "stream",
     "text": [
      "✅ locate_treasure.py looks correct\n"
     ]
    }
   ],
   "source": [
    "## == TEST CASES for Puzzle 3.2 ==\n",
    "# - This read-only cell contains test cases for your previous cell.\n",
    "# - If this cell runs without any error or output, you PASSED all test cases!\n",
    "# - If this cell results in any errors, check your previous cell, make changes, and RE-RUN your code and then this cell.\n",
    "    \n",
    "if os.path.exists(\"locate_treasure.py\"):\n",
    "    print(\"✅ locate_treasure.py looks correct\")\n",
    "else:\n",
    "    print(\"❌ locate_treasure.py does not exist\")\n"
   ]
  },
  {
   "cell_type": "markdown",
   "metadata": {},
   "source": [
    "## Part 4: Branches in Git\n",
    "Uh-Oh! You fell asleep during your shift at the helm, and your ship has veered off of it's path to Git Island! Polly has a solution though -- let's make a new branch to chart ourselves on path.\n",
    "\n",
    "A GitHub branch lets you work on new features or fixes without affecting the main project. It’s like a separate workspace where you can experiment safely, and once you're happy with your changes, you can merge them back. To create and switch to a new branch, use:\n",
    "- **git branch branchname**: This creates a new branch called \"branchname\"\n",
    "- **git checkout branchname**: This allows you to swap to the branch called \"branchname\"\n",
    "\n",
    "GitHub has a default branch called \"main\", which is where we currently are!\n",
    "**NOTE:** Branches are not something that you will encounter much in this course, however they are crucial to using GitHub collaboratively.\n",
    "\n",
    "### Puzzle 4.1: Making and Switching to a New Branch\n",
    "Using the commands we listed above, in your terminal make and switch to a new branch called \"git-island\" to steer your ship in the right direction."
   ]
  },
  {
   "cell_type": "markdown",
   "metadata": {},
   "source": [
    "### 🔬 Test Case Checkpoint 🔬"
   ]
  },
  {
   "cell_type": "code",
   "execution_count": 64,
   "metadata": {},
   "outputs": [
    {
     "name": "stdout",
     "output_type": "stream",
     "text": [
      "✅ You are on the 'git-island' branch!\n"
     ]
    }
   ],
   "source": [
    "## == TEST CASES for Puzzle 4.1 ==\n",
    "# - This read-only cell contains test cases for your previous cell.\n",
    "# - If this cell runs without any error or output, you PASSED all test cases!\n",
    "# - If this cell results in any errors, check your previous cell, make changes, and RE-RUN your code and then this cell.\n",
    "    \n",
    "branches = subprocess.check_output(\"git branch\", shell=True, text=True).split(\"\\n\")\n",
    "branch_names = [b.strip(\"* \").strip() for b in branches if b]\n",
    "\n",
    "current_branch = subprocess.check_output(\"git rev-parse --abbrev-ref HEAD\", shell=True, text=True).strip()\n",
    "\n",
    "if \"git-island\" in branch_names:\n",
    "    if current_branch == \"git-island\":\n",
    "        print(\"✅ You are on the 'git-island' branch!\")\n",
    "    else:\n",
    "        print(\"❌ 'git-island' exists, but you are on a different branch.\")\n",
    "else:\n",
    "    print(\"❌ The 'git-island' branch does not exist.\")\n"
   ]
  },
  {
   "cell_type": "markdown",
   "metadata": {},
   "source": [
    "### Puzzle 4.2: X marks the spot! \n",
    "All of your hard work has paid off! You have finally reached Git-Island and are about to uncover the hidden treasure. To find and open the treasure chest, run the following cell, and save the output in your **`treasure.txt`** file"
   ]
  },
  {
   "cell_type": "code",
   "execution_count": 65,
   "metadata": {},
   "outputs": [
    {
     "name": "stdout",
     "output_type": "stream",
     "text": [
      "Switched to branch 'main'\n",
      "Your branch is up to date with 'origin/main'.\n",
      "On branch main\n",
      "Your branch is up to date with 'origin/main'.\n",
      "\n",
      "nothing to commit, working tree clean\n",
      "Switched to branch 'git-island'\n",
      "Treasure Code: e317d\n"
     ]
    }
   ],
   "source": [
    "# DO NOT EDIT THIS CELL\n",
    "! git checkout main\n",
    "! echo '.....' > treasure.txt\n",
    "! git add .\n",
    "! git commit -m \"Modified treasure.txt in main\"\n",
    "! git checkout git-island\n",
    "! python locate_treasure.py"
   ]
  },
  {
   "cell_type": "markdown",
   "metadata": {},
   "source": [
    "### 🔬 Test Case Checkpoint 🔬"
   ]
  },
  {
   "cell_type": "code",
   "execution_count": 66,
   "metadata": {},
   "outputs": [
    {
     "name": "stdout",
     "output_type": "stream",
     "text": [
      "✅ Congratulations on finding the treasure!\n"
     ]
    }
   ],
   "source": [
    "## == TEST CASES for Puzzle 4.2 ==\n",
    "# - This read-only cell contains test cases for your previous cell.\n",
    "# - If this cell runs without any error or output, you PASSED all test cases!\n",
    "# - If this cell results in any errors, check your previous cell, make changes, and RE-RUN your code and then this cell.\n",
    "import hashlib\n",
    "\n",
    "with open(\"my_info.txt\", \"r\") as file:\n",
    "    # Remove whitespace around the netid!\n",
    "    net_id = file.readline().strip()\n",
    "\n",
    "hashed_value = hashlib.sha256(net_id.encode()).hexdigest()\n",
    "expected_treasure = hashed_value[:5]\n",
    "\n",
    "with open(\"treasure.txt\", \"r\") as file:\n",
    "    # Remove whitespace around the input\n",
    "    student_treasure = file.readline().strip()\n",
    "\n",
    "if student_treasure ==  expected_treasure:\n",
    "    print(\"✅ Congratulations on finding the treasure!\")\n",
    "else:\n",
    "    print(\"❌ You did not find the treasure\")\n"
   ]
  },
  {
   "cell_type": "markdown",
   "metadata": {},
   "source": [
    "## Part 5: Merge Conflicts\n",
    "Congratulations on finding the treasure! Now it's time to bring this treasure home, to prove to Captain Wade and Captain Karle that you're ready to be promoted to first mate. Polly reminds you that you haven't committed your in a while! Add, commit, and push your changes, and then swap branches like in part 4, to the branch named \"main\" this will chart us back to the mainland."
   ]
  },
  {
   "cell_type": "markdown",
   "metadata": {},
   "source": [
    "### Puzzle 5: Uh Oh!\n",
    "Argh! It looks like \n"
   ]
  },
  {
   "cell_type": "markdown",
   "metadata": {},
   "source": [
    "### Creating a Merge Conflict\n",
    "To create a merge conflict, one team member should modify `my_info.txt` in `main`, and another should modify it in `my-scavenger-branch`. Then, attempt to merge them:"
   ]
  },
  {
   "cell_type": "markdown",
   "metadata": {},
   "source": [
    "### Congratulations!\n",
    "Once you've successfully merged your changes, you've completed the GitHub Scavenger Hunt! 🎉"
   ]
  }
 ],
 "metadata": {
  "kernelspec": {
   "display_name": "data-preprocessing",
   "language": "python",
   "name": "python3"
  },
  "language_info": {
   "codemirror_mode": {
    "name": "ipython",
    "version": 3
   },
   "file_extension": ".py",
   "mimetype": "text/x-python",
   "name": "python",
   "nbconvert_exporter": "python",
   "pygments_lexer": "ipython3",
   "version": "3.9.7"
  }
 },
 "nbformat": 4,
 "nbformat_minor": 2
}
