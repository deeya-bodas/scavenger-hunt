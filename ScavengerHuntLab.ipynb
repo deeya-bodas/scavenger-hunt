{
 "cells": [
  {
   "cell_type": "markdown",
   "metadata": {},
   "source": [
    "# GitHub Lab - Scavenger Hunt\n",
    "\n",
    "## Introduction\n",
    "Welcome to the GitHub Scavenger Hunt! In this lab, you'll learn how to use Git effectively while following a structured set of challenges. By the end of this exercise, you’ll understand key Git concepts and earn a special password by hashing your information. Let’s get started!"
   ]
  },
  {
   "cell_type": "markdown",
   "metadata": {},
   "source": [
    "### Puzzle 1: Git Add vs Commit vs Push\n",
    "Git operates in three main stages:\n",
    "- **`git add`**: Moves changes to the \"staging area\" (which exists on physical device!)\n",
    "- **`git commit -m \"message\"`**: Saves changes locally with a commit message\n",
    "- **`git push`**: Sends committed changes to the remote repository (now everyone can see your changes)\n",
    "\n",
    "The add, commit, push sequence is intended to allow you to make changes! Let's start by making a small change! Update the variable below to store your favorite number, as an integer."
   ]
  },
  {
   "cell_type": "code",
   "execution_count": null,
   "metadata": {},
   "outputs": [],
   "source": [
    "my_favorite_number = ..."
   ]
  },
  {
   "cell_type": "markdown",
   "metadata": {},
   "source": [
    "Now lets make a commit! Use the following git commands in your terminal, but change up your commit message to include the word GitHub:\n",
    "\n",
    "**git add . </br>\n",
    "git commit -m \"message\" </br>\n",
    "git push </br>**\n",
    "\n",
    "**NOTE:** Each of these lines is a separate command that you must run one-by-one in this order in your terminal \n",
    "\n",
    "In order get points for this puzzle your message **must** include the word GitHub as part of your commit message. Try to make your message as descriptive as possible!"
   ]
  },
  {
   "cell_type": "markdown",
   "metadata": {},
   "source": [
    "### 🔬 Test Case Checkpoint 🔬"
   ]
  },
  {
   "cell_type": "code",
   "execution_count": null,
   "metadata": {},
   "outputs": [],
   "source": [
    "## == TEST CASES for Puzzle 1.1 ==\n",
    "# - This read-only cell contains test cases for your previous cell.\n",
    "# - If this cell runs without any error or output, you PASSED all test cases!\n",
    "# - If this cell results in any errors, check your previous cell, make changes, and RE-RUN your code and then this cell.\n",
    "import subprocess\n",
    "import re\n",
    "\n",
    "def check_commit_message():\n",
    "    try:\n",
    "        # Get all commit messages\n",
    "        commit_messages = subprocess.check_output([\"git\", \"log\", \"--pretty=%B\"]).decode(\"utf-8\")\n",
    "        \n",
    "        # Check if any commit message contains \"GitHub\" in different cases\n",
    "        if re.search(r'\\b(GitHub|github|Github)\\b', commit_messages):\n",
    "            print(\"✅ Found a commit message with 'GitHub'!\")\n",
    "        else:\n",
    "            print(\"❌ No commit message contains 'GitHub'. Try again!\")\n",
    "    except subprocess.CalledProcessError:\n",
    "        print(\"❌ Error: Could not fetch commit log. Are you in a Git repository?\")\n",
    "\n",
    "# Run the check\n",
    "check_commit_message()"
   ]
  },
  {
   "cell_type": "code",
   "execution_count": null,
   "metadata": {},
   "outputs": [],
   "source": [
    "import subprocess\n",
    "\n",
    "def get_first_line_of_file(file_path):\n",
    "    \"\"\"Reads the first line of a given file.\"\"\"\n",
    "    try:\n",
    "        with open(file_path, \"r\") as file:\n",
    "            return file.readline().strip()\n",
    "    except FileNotFoundError:\n",
    "        print(f\"❌ Error: {file_path} not found.\")\n",
    "        return None\n",
    "\n",
    "def check_commit_message_contains(text):\n",
    "    \"\"\"Checks if any commit message contains the given text.\"\"\"\n",
    "    try:\n",
    "        commit_messages = subprocess.check_output([\"git\", \"log\", \"--pretty=%B\"]).decode(\"utf-8\")\n",
    "        return text in commit_messages\n",
    "    except subprocess.CalledProcessError:\n",
    "        print(\"❌ Error: Could not retrieve git log.\")\n",
    "        return False\n",
    "\n",
    "# Get the first line from my_info.txt\n",
    "first_line = get_first_line_of_file(\"my_info.txt\")\n",
    "\n",
    "if first_line:\n",
    "    if check_commit_message_contains(first_line):\n",
    "        print(\"✅ Commit message is correct! It contains the first line of my_info.txt.\")\n",
    "    else:\n",
    "        print(\"❌ No commit message contains the first line of my_info.txt. Try again.\")"
   ]
  },
  {
   "cell_type": "markdown",
   "metadata": {},
   "source": [
    "## 2. Adding and Removing Files\n",
    "1. Create two files: `passwords.txt` and `my_info.txt`.\n",
    "2. Write some sample information into `my_info.txt`."
   ]
  },
  {
   "cell_type": "code",
   "execution_count": null,
   "metadata": {},
   "outputs": [],
   "source": [
    "# Create files\n",
    "!touch passwords.txt my_info.txt\n",
    "\n",
    "# Add some information\n",
    "!echo \"Your Name, Your Favorite Color\" > my_info.txt\n",
    "\n",
    "# Remove all files in the branch\n",
    "!git rm -rf ."
   ]
  },
  {
   "cell_type": "markdown",
   "metadata": {},
   "source": [
    "## 3. Create Your Own Branch\n",
    "To create and switch to your own branch, run this command in the terminal:"
   ]
  },
  {
   "cell_type": "code",
   "execution_count": null,
   "metadata": {},
   "outputs": [],
   "source": [
    "!git checkout -b my-scavenger-branch"
   ]
  },
  {
   "cell_type": "markdown",
   "metadata": {},
   "source": [
    "## 4. Update `.gitignore` and Pull the Python Script\n",
    "Modify `.gitignore` to exclude unnecessary files:"
   ]
  },
  {
   "cell_type": "code",
   "execution_count": null,
   "metadata": {},
   "outputs": [],
   "source": [
    "!echo \"*.pyc\" >> .gitignore\n",
    "!echo \"__pycache__/\" >> .gitignore\n",
    "\n",
    "# Pull the Python script from the remote repository\n",
    "!git pull origin main"
   ]
  },
  {
   "cell_type": "markdown",
   "metadata": {},
   "source": [
    "## 5. Running the Hashing Script\n",
    "1. The Python script (`hash_info.py`) will process your `my_info.txt` and generate a password.\n",
    "2. Run the script and check what is stored in `passwords.txt`."
   ]
  },
  {
   "cell_type": "code",
   "execution_count": null,
   "metadata": {},
   "outputs": [],
   "source": [
    "!python hash_info.py\n",
    "!cat passwords.txt"
   ]
  },
  {
   "cell_type": "markdown",
   "metadata": {},
   "source": [
    "## 6. Add, Commit, Push & Simulating a Merge Conflict\n",
    "Now, commit and push your changes:"
   ]
  },
  {
   "cell_type": "code",
   "execution_count": null,
   "metadata": {},
   "outputs": [],
   "source": [
    "# Add files\n",
    "!git add .\n",
    "\n",
    "# Commit changes\n",
    "!git commit -m \"Updated my info and generated password\"\n",
    "\n",
    "# Push changes\n",
    "!git push origin my-scavenger-branch"
   ]
  },
  {
   "cell_type": "markdown",
   "metadata": {},
   "source": [
    "### Creating a Merge Conflict\n",
    "To create a merge conflict, one team member should modify `my_info.txt` in `main`, and another should modify it in `my-scavenger-branch`. Then, attempt to merge them:"
   ]
  },
  {
   "cell_type": "code",
   "execution_count": null,
   "metadata": {},
   "outputs": [],
   "source": [
    "!git merge main"
   ]
  },
  {
   "cell_type": "markdown",
   "metadata": {},
   "source": [
    "### Congratulations!\n",
    "Once you've successfully merged your changes, you've completed the GitHub Scavenger Hunt! 🎉"
   ]
  }
 ],
 "metadata": {
  "kernelspec": {
   "display_name": "Python 3",
   "language": "python",
   "name": "python3"
  },
  "language_info": {
   "codemirror_mode": {
    "name": "ipython",
    "version": 3
   },
   "file_extension": ".py",
   "mimetype": "text/x-python",
   "name": "python",
   "nbconvert_exporter": "python",
   "pygments_lexer": "ipython3",
   "version": "3.8"
  }
 },
 "nbformat": 4,
 "nbformat_minor": 2
}
